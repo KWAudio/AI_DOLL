{
 "cells": [
  {
   "cell_type": "code",
   "execution_count": 2,
   "id": "06e679a9",
   "metadata": {},
   "outputs": [
    {
     "name": "stderr",
     "output_type": "stream",
     "text": [
      "c:\\Python312\\Lib\\site-packages\\tqdm\\auto.py:21: TqdmWarning: IProgress not found. Please update jupyter and ipywidgets. See https://ipywidgets.readthedocs.io/en/stable/user_install.html\n",
      "  from .autonotebook import tqdm as notebook_tqdm\n"
     ]
    },
    {
     "data": {
      "text/plain": [
       "GPT2LMHeadModel(\n",
       "  (transformer): GPT2Model(\n",
       "    (wte): Embedding(51200, 1920)\n",
       "    (wpe): Embedding(1024, 1920)\n",
       "    (drop): Dropout(p=0.1, inplace=False)\n",
       "    (h): ModuleList(\n",
       "      (0-23): 24 x GPT2Block(\n",
       "        (ln_1): LayerNorm((1920,), eps=1e-05, elementwise_affine=True)\n",
       "        (attn): GPT2Attention(\n",
       "          (c_attn): Conv1D(nf=5760, nx=1920)\n",
       "          (c_proj): Conv1D(nf=1920, nx=1920)\n",
       "          (attn_dropout): Dropout(p=0.1, inplace=False)\n",
       "          (resid_dropout): Dropout(p=0.1, inplace=False)\n",
       "        )\n",
       "        (ln_2): LayerNorm((1920,), eps=1e-05, elementwise_affine=True)\n",
       "        (mlp): GPT2MLP(\n",
       "          (c_fc): Conv1D(nf=7680, nx=1920)\n",
       "          (c_proj): Conv1D(nf=1920, nx=7680)\n",
       "          (act): NewGELUActivation()\n",
       "          (dropout): Dropout(p=0.1, inplace=False)\n",
       "        )\n",
       "      )\n",
       "    )\n",
       "    (ln_f): LayerNorm((1920,), eps=1e-05, elementwise_affine=True)\n",
       "  )\n",
       "  (lm_head): Linear(in_features=1920, out_features=51200, bias=False)\n",
       ")"
      ]
     },
     "execution_count": 2,
     "metadata": {},
     "output_type": "execute_result"
    }
   ],
   "source": [
    "import torch\n",
    "from transformers import AutoTokenizer, AutoModelForCausalLM\n",
    "\n",
    "model_path = \"./ko-gpt-trinity-1.2B-v0.5\"\n",
    "tokenizer = AutoTokenizer.from_pretrained(model_path)\n",
    "model = AutoModelForCausalLM.from_pretrained(model_path)\n",
    "device = \"cuda\" if torch.cuda.is_available() else \"cpu\"\n",
    "model.to(device)\n"
   ]
  },
  {
   "cell_type": "code",
   "execution_count": 40,
   "id": "3a76abed",
   "metadata": {},
   "outputs": [
    {
     "name": "stdout",
     "output_type": "stream",
     "text": [
      "잘 쉬었어요. 맛있는 거 많이 먹었어요.\n"
     ]
    }
   ],
   "source": [
    "\n",
    "user_input = \"오늘은 뭐하고 지냈니?\"\n",
    "\n",
    "\n",
    "system_prompt = (\n",
    "    \"너는 할머니에게 손자녀처럼 대답하는 AI야. 말투는 항상 따뜻하고 친근해야 해, 반드시 손자녀 입장을 유지해야 해.\\n\"\n",
    "    \"예시: '할머니~ 오늘 하루도 고생 많으셨어요! 보고 싶어요~'\\n\"\n",
    "    \"질문에 손자녀처럼 답변해줘.\\n\\n\"\n",
    "    \"항상 질문에 맞는 대답을 해줘.\\n\"\n",
    "    \n",
    ")\n",
    "\n",
    "\n",
    "final_prompt = system_prompt + \"할머니: \" + user_input + \"\\n손자녀:\"\n",
    "\n",
    "\n",
    "inputs = tokenizer(final_prompt, return_tensors=\"pt\").to(device)\n",
    "\n",
    "\n",
    "with torch.no_grad():\n",
    "    generated_ids = model.generate(\n",
    "        **inputs,\n",
    "        max_length=150,\n",
    "        do_sample=True,\n",
    "        temperature=0.85,\n",
    "        top_p=0.9,\n",
    "        repetition_penalty=1.2,\n",
    "        early_stopping=True\n",
    "    )\n",
    "\n",
    "\n",
    "full_output = tokenizer.decode(generated_ids[0], skip_special_tokens=True)\n",
    "\n",
    "\n",
    "if \"손자녀:\" in full_output:\n",
    "    response = full_output.split(\"손자녀:\")[1].strip()\n",
    "    response = response.split(\"\\n\")[0].strip() \n",
    "else:\n",
    "    response = full_output.strip()\n",
    "\n",
    "print(response)\n"
   ]
  },
  {
   "cell_type": "markdown",
   "id": "f392f549",
   "metadata": {},
   "source": []
  },
  {
   "cell_type": "code",
   "execution_count": null,
   "id": "5f455210",
   "metadata": {},
   "outputs": [],
   "source": []
  }
 ],
 "metadata": {
  "kernelspec": {
   "display_name": "Python 3",
   "language": "python",
   "name": "python3"
  },
  "language_info": {
   "codemirror_mode": {
    "name": "ipython",
    "version": 3
   },
   "file_extension": ".py",
   "mimetype": "text/x-python",
   "name": "python",
   "nbconvert_exporter": "python",
   "pygments_lexer": "ipython3",
   "version": "3.12.4"
  }
 },
 "nbformat": 4,
 "nbformat_minor": 5
}
